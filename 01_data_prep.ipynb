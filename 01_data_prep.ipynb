{
 "cells": [
  {
   "cell_type": "markdown",
   "id": "c485c3ac",
   "metadata": {},
   "source": [
    "## Objective : Extract and preprocess music files"
   ]
  },
  {
   "cell_type": "code",
   "execution_count": 2,
   "id": "15ff48d9-600c-489f-a019-b8015698c7bb",
   "metadata": {},
   "outputs": [
    {
     "name": "stdout",
     "output_type": "stream",
     "text": [
      "Requirement already satisfied: librosa in c:\\users\\nitha\\appdata\\local\\packages\\pythonsoftwarefoundation.python.3.11_qbz5n2kfra8p0\\localcache\\local-packages\\python311\\site-packages (0.10.2.post1)\n",
      "Requirement already satisfied: audioread>=2.1.9 in c:\\users\\nitha\\appdata\\local\\packages\\pythonsoftwarefoundation.python.3.11_qbz5n2kfra8p0\\localcache\\local-packages\\python311\\site-packages (from librosa) (3.0.1)\n",
      "Requirement already satisfied: numpy!=1.22.0,!=1.22.1,!=1.22.2,>=1.20.3 in c:\\users\\nitha\\appdata\\local\\packages\\pythonsoftwarefoundation.python.3.11_qbz5n2kfra8p0\\localcache\\local-packages\\python311\\site-packages (from librosa) (1.26.1)\n",
      "Requirement already satisfied: scipy>=1.2.0 in c:\\users\\nitha\\appdata\\local\\packages\\pythonsoftwarefoundation.python.3.11_qbz5n2kfra8p0\\localcache\\local-packages\\python311\\site-packages (from librosa) (1.12.0)\n",
      "Requirement already satisfied: scikit-learn>=0.20.0 in c:\\users\\nitha\\appdata\\local\\packages\\pythonsoftwarefoundation.python.3.11_qbz5n2kfra8p0\\localcache\\local-packages\\python311\\site-packages (from librosa) (1.4.0)\n",
      "Requirement already satisfied: joblib>=0.14 in c:\\users\\nitha\\appdata\\local\\packages\\pythonsoftwarefoundation.python.3.11_qbz5n2kfra8p0\\localcache\\local-packages\\python311\\site-packages (from librosa) (1.3.2)\n",
      "Requirement already satisfied: decorator>=4.3.0 in c:\\users\\nitha\\appdata\\local\\packages\\pythonsoftwarefoundation.python.3.11_qbz5n2kfra8p0\\localcache\\local-packages\\python311\\site-packages (from librosa) (5.1.1)\n",
      "Requirement already satisfied: numba>=0.51.0 in c:\\users\\nitha\\appdata\\local\\packages\\pythonsoftwarefoundation.python.3.11_qbz5n2kfra8p0\\localcache\\local-packages\\python311\\site-packages (from librosa) (0.60.0)\n",
      "Requirement already satisfied: soundfile>=0.12.1 in c:\\users\\nitha\\appdata\\local\\packages\\pythonsoftwarefoundation.python.3.11_qbz5n2kfra8p0\\localcache\\local-packages\\python311\\site-packages (from librosa) (0.12.1)\n",
      "Requirement already satisfied: pooch>=1.1 in c:\\users\\nitha\\appdata\\local\\packages\\pythonsoftwarefoundation.python.3.11_qbz5n2kfra8p0\\localcache\\local-packages\\python311\\site-packages (from librosa) (1.8.2)\n",
      "Requirement already satisfied: soxr>=0.3.2 in c:\\users\\nitha\\appdata\\local\\packages\\pythonsoftwarefoundation.python.3.11_qbz5n2kfra8p0\\localcache\\local-packages\\python311\\site-packages (from librosa) (0.4.0)\n",
      "Requirement already satisfied: typing-extensions>=4.1.1 in c:\\users\\nitha\\appdata\\local\\packages\\pythonsoftwarefoundation.python.3.11_qbz5n2kfra8p0\\localcache\\local-packages\\python311\\site-packages (from librosa) (4.9.0)\n",
      "Requirement already satisfied: lazy-loader>=0.1 in c:\\users\\nitha\\appdata\\local\\packages\\pythonsoftwarefoundation.python.3.11_qbz5n2kfra8p0\\localcache\\local-packages\\python311\\site-packages (from librosa) (0.4)\n",
      "Requirement already satisfied: msgpack>=1.0 in c:\\users\\nitha\\appdata\\local\\packages\\pythonsoftwarefoundation.python.3.11_qbz5n2kfra8p0\\localcache\\local-packages\\python311\\site-packages (from librosa) (1.0.8)\n",
      "Requirement already satisfied: packaging in c:\\users\\nitha\\appdata\\local\\packages\\pythonsoftwarefoundation.python.3.11_qbz5n2kfra8p0\\localcache\\local-packages\\python311\\site-packages (from lazy-loader>=0.1->librosa) (23.1)\n",
      "Requirement already satisfied: llvmlite<0.44,>=0.43.0dev0 in c:\\users\\nitha\\appdata\\local\\packages\\pythonsoftwarefoundation.python.3.11_qbz5n2kfra8p0\\localcache\\local-packages\\python311\\site-packages (from numba>=0.51.0->librosa) (0.43.0)\n",
      "Requirement already satisfied: platformdirs>=2.5.0 in c:\\users\\nitha\\appdata\\local\\packages\\pythonsoftwarefoundation.python.3.11_qbz5n2kfra8p0\\localcache\\local-packages\\python311\\site-packages (from pooch>=1.1->librosa) (3.10.0)\n",
      "Requirement already satisfied: requests>=2.19.0 in c:\\users\\nitha\\appdata\\local\\packages\\pythonsoftwarefoundation.python.3.11_qbz5n2kfra8p0\\localcache\\local-packages\\python311\\site-packages (from pooch>=1.1->librosa) (2.31.0)\n",
      "Requirement already satisfied: threadpoolctl>=2.0.0 in c:\\users\\nitha\\appdata\\local\\packages\\pythonsoftwarefoundation.python.3.11_qbz5n2kfra8p0\\localcache\\local-packages\\python311\\site-packages (from scikit-learn>=0.20.0->librosa) (3.3.0)\n",
      "Requirement already satisfied: cffi>=1.0 in c:\\users\\nitha\\appdata\\local\\packages\\pythonsoftwarefoundation.python.3.11_qbz5n2kfra8p0\\localcache\\local-packages\\python311\\site-packages (from soundfile>=0.12.1->librosa) (1.15.1)\n",
      "Requirement already satisfied: pycparser in c:\\users\\nitha\\appdata\\local\\packages\\pythonsoftwarefoundation.python.3.11_qbz5n2kfra8p0\\localcache\\local-packages\\python311\\site-packages (from cffi>=1.0->soundfile>=0.12.1->librosa) (2.21)\n",
      "Requirement already satisfied: charset-normalizer<4,>=2 in c:\\users\\nitha\\appdata\\local\\packages\\pythonsoftwarefoundation.python.3.11_qbz5n2kfra8p0\\localcache\\local-packages\\python311\\site-packages (from requests>=2.19.0->pooch>=1.1->librosa) (3.2.0)\n",
      "Requirement already satisfied: idna<4,>=2.5 in c:\\users\\nitha\\appdata\\local\\packages\\pythonsoftwarefoundation.python.3.11_qbz5n2kfra8p0\\localcache\\local-packages\\python311\\site-packages (from requests>=2.19.0->pooch>=1.1->librosa) (3.4)\n",
      "Requirement already satisfied: urllib3<3,>=1.21.1 in c:\\users\\nitha\\appdata\\local\\packages\\pythonsoftwarefoundation.python.3.11_qbz5n2kfra8p0\\localcache\\local-packages\\python311\\site-packages (from requests>=2.19.0->pooch>=1.1->librosa) (2.0.4)\n",
      "Requirement already satisfied: certifi>=2017.4.17 in c:\\users\\nitha\\appdata\\local\\packages\\pythonsoftwarefoundation.python.3.11_qbz5n2kfra8p0\\localcache\\local-packages\\python311\\site-packages (from requests>=2.19.0->pooch>=1.1->librosa) (2023.7.22)\n"
     ]
    },
    {
     "name": "stderr",
     "output_type": "stream",
     "text": [
      "\n",
      "[notice] A new release of pip is available: 24.0 -> 24.2\n",
      "[notice] To update, run: C:\\Users\\nitha\\AppData\\Local\\Microsoft\\WindowsApps\\PythonSoftwareFoundation.Python.3.11_qbz5n2kfra8p0\\python.exe -m pip install --upgrade pip\n"
     ]
    }
   ],
   "source": [
    "!pip install librosa"
   ]
  },
  {
   "cell_type": "code",
   "execution_count": 3,
   "id": "1df472f3-5518-445a-b251-8a824dc034d1",
   "metadata": {},
   "outputs": [],
   "source": [
    "import os\n",
    "import librosa\n",
    "import pickle\n",
    "\n",
    "import warnings\n",
    "warnings.filterwarnings('ignore')"
   ]
  },
  {
   "cell_type": "markdown",
   "id": "0c0a25c1",
   "metadata": {},
   "source": [
    "Function to divide a song into chunks of 100,000"
   ]
  },
  {
   "cell_type": "code",
   "execution_count": 4,
   "id": "a651a201-4fcb-4b38-a5de-8c47435d8d13",
   "metadata": {},
   "outputs": [],
   "source": [
    "\n",
    "def cut_song(song):\n",
    "\n",
    "   # Divide a song into chunks of 100,000 samples each\n",
    "  start = 0\n",
    "  end = len(song)\n",
    "  \n",
    "  song_pieces = []\n",
    "  \n",
    "  while start + 100000 < end:\n",
    "    song_pieces.append(song[start:start+100000])\n",
    "\n",
    "    start += 100000\n",
    "\n",
    "  return song_pieces"
   ]
  },
  {
   "cell_type": "markdown",
   "id": "d9068eb0",
   "metadata": {},
   "source": [
    "Function to compute the mel spectrogram for each chunk"
   ]
  },
  {
   "cell_type": "code",
   "execution_count": 5,
   "id": "41addeca-b201-4b83-b923-fcb745070ce9",
   "metadata": {},
   "outputs": [],
   "source": [
    "\n",
    "def prepare_song(song_path):\n",
    "    list_matrices = []\n",
    "    y, sr = librosa.load(song_path, sr=22050)\n",
    "    song_pieces = cut_song(y)\n",
    "    \n",
    "    for song_piece in song_pieces:\n",
    "        melspect = librosa.feature.melspectrogram(y=song_piece, sr=sr)\n",
    "        list_matrices.append(melspect)\n",
    "    return list_matrices"
   ]
  },
  {
   "cell_type": "markdown",
   "id": "8b3ac517",
   "metadata": {},
   "source": [
    "Function to list all files in a directory and their parent directory names"
   ]
  },
  {
   "cell_type": "code",
   "execution_count": 6,
   "id": "e3a4923a-7cfa-4a35-bcca-1962b122d5c6",
   "metadata": {},
   "outputs": [],
   "source": [
    "def list_files(dir):\n",
    "    file = []\n",
    "    dir_name = []\n",
    "\n",
    "    for root, dirs, files in os.walk(dir):\n",
    "        for name in files:\n",
    "            file_dir = os.path.join(root, name)\n",
    "            file.append(file_dir)\n",
    "            dir_name.append(os.path.basename(os.path.dirname(file_dir)))\n",
    "    return file, dir_name"
   ]
  },
  {
   "cell_type": "code",
   "execution_count": 7,
   "id": "db230578-e34c-41b2-937a-41fb37e425c1",
   "metadata": {},
   "outputs": [],
   "source": [
    "data_dir = os.getcwd() + \"/Data\""
   ]
  },
  {
   "cell_type": "markdown",
   "id": "9495545b",
   "metadata": {},
   "source": [
    "Collect their mel spectrograms along with labels"
   ]
  },
  {
   "cell_type": "code",
   "execution_count": 8,
   "id": "a5529f7a-c68e-42af-a601-ec5ffb5991e1",
   "metadata": {},
   "outputs": [
    {
     "name": "stdout",
     "output_type": "stream",
     "text": [
      "['Abheri', 'Abheri', 'Abheri', 'Abheri', 'Bageshree', 'Bhimpalasi', 'Bhimpalasi', 'Bhimpalasi', 'Bhimpalasi', 'Bhimpalasi', 'Brindavani', 'Brindavani', 'Brindavani', 'Brindavani', 'Brindavani', 'Darbar', 'Darbar', 'Darbar', 'Darbar', 'Desh', 'Desh', 'Desh', 'Desh', 'Hamsadhwani', 'Hamsadhwani', 'Hamsadhwani', 'Hamsanadam', 'Hamsanadam', 'Hamsanadam', 'Jog', 'Jog', 'Jog', 'Jog', 'Marwa', 'Marwa', 'Marwa', 'Marwa', 'Nattai', 'Nattai', 'Nattai', 'Nattai', 'Puriya Dhanashree', 'Puriya Dhanashree', 'Puriya Dhanashree', 'Ragamalika', 'Ragamalika', 'Ragamalika', 'Saramati', 'Saramati', 'Saramati', 'Saramati', 'Shree', 'Yaman', 'Yaman', 'Yaman', 'Yaman', 'Yamunakalyani', 'Yamunakalyani', 'Yamunakalyani', 'Yamunakalyani']\n"
     ]
    }
   ],
   "source": [
    "# Kirtan only\n",
    "k_dir = data_dir + \"/kirtan\"\n",
    "\n",
    "raag_tracks, raag_names = list_files(k_dir)\n",
    "print(raag_names)\n",
    "\n",
    "\n",
    "all_tracks = []\n",
    "raag = []\n",
    "n = 0\n",
    "\n",
    "for i in raag_tracks:\n",
    "    x = raag_names[n]\n",
    "    raag_pieces = prepare_song(i)\n",
    "    all_tracks += raag_pieces\n",
    "    raag += ([x]*len(raag_pieces))\n",
    "    n += 1\n",
    "\n",
    "# 22m 4.5s"
   ]
  },
  {
   "cell_type": "markdown",
   "id": "31e2c0f7",
   "metadata": {},
   "source": [
    "Save the mel spectrograms and their labels to pickle files"
   ]
  },
  {
   "cell_type": "code",
   "execution_count": 9,
   "id": "2e331101-309f-4f3c-ae2f-021c4a52bb18",
   "metadata": {},
   "outputs": [],
   "source": [
    "pickle.dump(all_tracks, open('all_tracks.pkl', 'wb'))\n",
    "pickle.dump(raag, open('raag.pkl', 'wb'))"
   ]
  },
  {
   "cell_type": "code",
   "execution_count": 10,
   "id": "c9edae43-df59-4e94-b701-7c4fb10cee23",
   "metadata": {},
   "outputs": [
    {
     "data": {
      "text/plain": [
       "17"
      ]
     },
     "execution_count": 10,
     "metadata": {},
     "output_type": "execute_result"
    }
   ],
   "source": [
    "len(set(list(raag_names)))"
   ]
  }
 ],
 "metadata": {
  "kernelspec": {
   "display_name": "Python 3",
   "language": "python",
   "name": "python3"
  },
  "language_info": {
   "codemirror_mode": {
    "name": "ipython",
    "version": 3
   },
   "file_extension": ".py",
   "mimetype": "text/x-python",
   "name": "python",
   "nbconvert_exporter": "python",
   "pygments_lexer": "ipython3",
   "version": "3.11.9"
  }
 },
 "nbformat": 4,
 "nbformat_minor": 5
}
